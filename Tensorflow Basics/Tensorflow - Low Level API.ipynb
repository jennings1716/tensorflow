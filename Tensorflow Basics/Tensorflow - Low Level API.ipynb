{
 "cells": [
  {
   "cell_type": "markdown",
   "metadata": {},
   "source": [
    "# Tensorflow Core\n",
    "\n",
    "**Knowing TensorFlow Core is valuable for the following reasons:**\n",
    "\n",
    "    - Experimentation and debugging are both more straight forward when you can use low level TensorFlow operations directly.\n",
    "    \n",
    "    - It gives you a mental model of how things work internally when using the higher level APIs"
   ]
  },
  {
   "cell_type": "markdown",
   "metadata": {},
   "source": [
    "### Keyterms \n",
    "    \n",
    "   #### Tensor\n",
    "    The central unit of data in TensorFlow\n",
    "               \n",
    "    A tensor consists of a set of primitive values shaped into an array of any number of dimensions.\n",
    "   \n",
    "   #### Rank\n",
    "    Number of dimensions\n",
    "\n",
    "   \n",
    "   #### Shape\n",
    "    Tuple of integers describing array's length along each dimension.\n",
    "    \n",
    "   #### TensorFlow Core Walkthrough\n",
    "    TensorFlow Core programs as consisting of two discrete sections:\n",
    "    \n",
    "            1. Building a Computational graph (tf.Graph)\n",
    "            \n",
    "            2. Running the Computational graph (tf.Session)\n",
    "   \n",
    "   #### Graph\n",
    "      A computational graph is a **series of TensorFlow operations** arranged into a graph. \n",
    "         \n",
    "      The graph is composed of two types of objects.\n",
    "              1. tf.Operation - The nodes of the graph. Operations describe calculations that consume and produce tensors.\n",
    "              \n",
    "              2. tf.Tensor - The edges in the graph. These represent the values that will flow through the graph. "
   ]
  },
  {
   "cell_type": "code",
   "execution_count": 2,
   "metadata": {},
   "outputs": [
    {
     "name": "stdout",
     "output_type": "stream",
     "text": [
      "Tensor(\"Const:0\", shape=(), dtype=float32)\n",
      "Tensor(\"Const_1:0\", shape=(), dtype=float32)\n",
      "Tensor(\"add:0\", shape=(), dtype=float32)\n"
     ]
    }
   ],
   "source": [
    "# Basic Tensorflow operation\n",
    "import tensorflow as tf\n",
    "a = tf.constant(3.0, dtype=tf.float32)\n",
    "b = tf.constant(4.0) # also tf.float32 implicitly\n",
    "total = a + b\n",
    "print(a)\n",
    "print(b)\n",
    "print(total)"
   ]
  },
  {
   "cell_type": "code",
   "execution_count": 4,
   "metadata": {},
   "outputs": [],
   "source": [
    "writer = tf.summary.FileWriter('.')\n",
    "writer.add_graph(tf.get_default_graph())\n",
    "writer.flush()"
   ]
  },
  {
   "cell_type": "markdown",
   "metadata": {},
   "source": [
    "### Feeding\n",
    "     A graph can be parameterized to accept external inputs, known as placeholders.\n",
    "     \n",
    "     sess.run( result, feed_dict = {data : value})"
   ]
  },
  {
   "cell_type": "code",
   "execution_count": 6,
   "metadata": {},
   "outputs": [
    {
     "name": "stdout",
     "output_type": "stream",
     "text": [
      "7.5\n"
     ]
    }
   ],
   "source": [
    "sess = tf.Session()\n",
    "x = tf.placeholder(tf.float32)\n",
    "y = tf.placeholder(tf.float32)\n",
    "z = x + y\n",
    "print(sess.run(z, feed_dict={x: 3, y: 4.5}))\n"
   ]
  },
  {
   "cell_type": "markdown",
   "metadata": {},
   "source": [
    "# Datasets\n",
    "    \n",
    "   #### Placeholders work for simple experiments, but tf.data are the preferred method of streaming data into a model.\n",
    "   "
   ]
  },
  {
   "cell_type": "code",
   "execution_count": 14,
   "metadata": {},
   "outputs": [
    {
     "name": "stdout",
     "output_type": "stream",
     "text": [
      "[0 1]\n",
      "[2 3]\n",
      "[4 5]\n",
      "[6 7]\n"
     ]
    }
   ],
   "source": [
    "my_data = [\n",
    "    [0, 1,],\n",
    "    [2, 3,],\n",
    "    [4, 5,],\n",
    "    [6, 7,],\n",
    "]\n",
    "slices = tf.data.Dataset.from_tensor_slices(my_data)\n",
    "next_item = slices.make_one_shot_iterator().get_next()\n",
    "\n",
    "while True:\n",
    "    try:\n",
    "        print(sess.run(next_item))\n",
    "    except tf.errors.OutOfRangeError:\n",
    "        break"
   ]
  },
  {
   "cell_type": "markdown",
   "metadata": {},
   "source": [
    "# Layers\n",
    "\n",
    "   - A trainable model must modify the values in the graph to get new outputs with the same input. tf.layers are the preferred way to add trainable parameters to a graph.\n",
    "    \n",
    "   - a densely-connected layer performs a weighted sum across all inputs for each output and applies an optional activation function.\n"
   ]
  },
  {
   "cell_type": "markdown",
   "metadata": {},
   "source": [
    "## Creating Layers\n",
    "    "
   ]
  },
  {
   "cell_type": "code",
   "execution_count": 20,
   "metadata": {},
   "outputs": [
    {
     "name": "stdout",
     "output_type": "stream",
     "text": [
      "Tensor(\"dense_5/BiasAdd:0\", shape=(?, 1), dtype=float32)\n",
      "[[0.57237625]]\n"
     ]
    }
   ],
   "source": [
    "x = tf.placeholder(tf.float32, shape=[None, 3])\n",
    "linear_model = tf.layers.Dense(units=1)(x)\n",
    "\n",
    "print(linear_model)\n",
    "\n",
    "#Initializing Layers\n",
    "init = tf.global_variables_initializer()\n",
    "with tf.Session() as sess:\n",
    "    sess.run(init)\n",
    "    print(sess.run(linear_model,feed_dict={x:[[1,2,3]]}))"
   ]
  },
  {
   "cell_type": "code",
   "execution_count": 32,
   "metadata": {},
   "outputs": [],
   "source": [
    "import numpy as np\n",
    "x = tf.constant(np.arange(1,11).reshape((10,1)), dtype=tf.float32)\n",
    "y_true = tf.constant(np.square(np.arange(1,11)).reshape((10,1)), dtype=tf.float32)\n",
    "\n",
    "Model = tf.layers.Dense(units=1)\n",
    "y_pred = Model(x)"
   ]
  },
  {
   "cell_type": "code",
   "execution_count": 34,
   "metadata": {},
   "outputs": [
    {
     "name": "stdout",
     "output_type": "stream",
     "text": [
      "[[0.64026606]\n",
      " [1.2805321 ]\n",
      " [1.9207982 ]\n",
      " [2.5610642 ]\n",
      " [3.2013302 ]\n",
      " [3.8415964 ]\n",
      " [4.4818625 ]\n",
      " [5.1221285 ]\n",
      " [5.7623944 ]\n",
      " [6.4026604 ]]\n"
     ]
    }
   ],
   "source": [
    "sess = tf.Session()\n",
    "init = tf.global_variables_initializer()\n",
    "sess.run(init)\n",
    "\n",
    "print(sess.run(y_pred))"
   ]
  },
  {
   "cell_type": "markdown",
   "metadata": {},
   "source": [
    "## Loss\n",
    "\n",
    "    To optimize a model, you first need to define the loss. We'll use the mean square error, a standard loss for regression problems.\n",
    "   "
   ]
  },
  {
   "cell_type": "code",
   "execution_count": 35,
   "metadata": {},
   "outputs": [
    {
     "name": "stdout",
     "output_type": "stream",
     "text": [
      "2161.7217\n"
     ]
    }
   ],
   "source": [
    "loss = tf.losses.mean_squared_error(labels=y_true, predictions=y_pred)\n",
    "\n",
    "print(sess.run(loss))"
   ]
  },
  {
   "cell_type": "markdown",
   "metadata": {},
   "source": [
    "## Training\n",
    "\n",
    "   - TensorFlow provides optimizers implementing standard optimization algorithms.\n",
    "    \n",
    "   - These are implemented as sub-classes of **tf.train.Optimizer**. \n",
    "        \n",
    "   - They incrementally change each variable in order to minimize the loss."
   ]
  },
  {
   "cell_type": "code",
   "execution_count": 36,
   "metadata": {},
   "outputs": [],
   "source": [
    "optimizer = tf.train.GradientDescentOptimizer(0.01)\n",
    "train = optimizer.minimize(loss)"
   ]
  },
  {
   "cell_type": "code",
   "execution_count": 43,
   "metadata": {},
   "outputs": [],
   "source": [
    "for i in range(10):\n",
    "  _, loss_value = sess.run((train, loss))\n",
    "  "
   ]
  },
  {
   "cell_type": "code",
   "execution_count": 44,
   "metadata": {},
   "outputs": [
    {
     "name": "stdout",
     "output_type": "stream",
     "text": [
      "[[-1.0999800e+01]\n",
      " [ 1.6593933e-04]\n",
      " [ 1.1000132e+01]\n",
      " [ 2.2000097e+01]\n",
      " [ 3.3000061e+01]\n",
      " [ 4.4000031e+01]\n",
      " [ 5.4999992e+01]\n",
      " [ 6.5999962e+01]\n",
      " [ 7.6999931e+01]\n",
      " [ 8.7999893e+01]]\n"
     ]
    }
   ],
   "source": [
    "print(sess.run(y_pred))\n"
   ]
  },
  {
   "cell_type": "code",
   "execution_count": null,
   "metadata": {},
   "outputs": [],
   "source": []
  }
 ],
 "metadata": {
  "kernelspec": {
   "display_name": "Python 3",
   "language": "python",
   "name": "python3"
  },
  "language_info": {
   "codemirror_mode": {
    "name": "ipython",
    "version": 3
   },
   "file_extension": ".py",
   "mimetype": "text/x-python",
   "name": "python",
   "nbconvert_exporter": "python",
   "pygments_lexer": "ipython3",
   "version": "3.5.2"
  }
 },
 "nbformat": 4,
 "nbformat_minor": 2
}
